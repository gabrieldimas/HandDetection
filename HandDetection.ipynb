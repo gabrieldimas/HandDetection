{
  "nbformat": 4,
  "nbformat_minor": 0,
  "metadata": {
    "colab": {
      "provenance": [],
      "authorship_tag": "ABX9TyMYNKr0hAoSFZEJxmm5+9Kn",
      "include_colab_link": true
    },
    "kernelspec": {
      "name": "python3",
      "display_name": "Python 3"
    },
    "language_info": {
      "name": "python"
    }
  },
  "cells": [
    {
      "cell_type": "markdown",
      "metadata": {
        "id": "view-in-github",
        "colab_type": "text"
      },
      "source": [
        "<a href=\"https://colab.research.google.com/github/gabrieldimas/HandDetection/blob/main/HandDetection.ipynb\" target=\"_parent\"><img src=\"https://colab.research.google.com/assets/colab-badge.svg\" alt=\"Open In Colab\"/></a>"
      ]
    },
    {
      "cell_type": "code",
      "source": [
        "from google.colab import drive\n",
        "drive.mount('/content/drive')"
      ],
      "metadata": {
        "colab": {
          "base_uri": "https://localhost:8080/"
        },
        "id": "m-dBnmT8lxGt",
        "outputId": "be0db7da-8c28-4f20-d2a8-16e2b913c1ff"
      },
      "execution_count": null,
      "outputs": [
        {
          "output_type": "stream",
          "name": "stdout",
          "text": [
            "Mounted at /content/drive\n"
          ]
        }
      ]
    },
    {
      "cell_type": "code",
      "source": [
        "import cv2\n",
        "import numpy as np\n",
        "\n",
        "# Load model YOLOv3\n",
        "net = cv2.dnn.readNet('yolov3.weights', 'yolov3.cfg')\n",
        "\n",
        "# Load classes (classes.names)\n",
        "with open('coco.names', 'r') as f:\n",
        "    classes = f.read().strip().split('\\n')\n",
        "\n",
        "# Load image\n",
        "image = cv.imread('/content/drive/MyDrive/Kuliah/PCVK/assets/hando.png')\n",
        "image = cv2.imread('hand_image.jpg')\n",
        "height, width = image.shape[:2]\n",
        "\n",
        "# Create a blob from the image\n",
        "blob = cv2.dnn.blobFromImage(image, 1/255.0, (416, 416), swapRB=True, crop=False)\n",
        "\n",
        "# Set the input to the network\n",
        "net.setInput(blob)\n",
        "\n",
        "# Get the output layer names\n",
        "output_layer_names = net.getUnconnectedOutLayersNames()\n",
        "\n",
        "# Forward pass through the network\n",
        "detections = net.forward(output_layer_names)\n",
        "\n",
        "# Loop over the detections\n",
        "for detection in detections:\n",
        "    for obj in detection:\n",
        "        scores = obj[5:]\n",
        "        class_id = np.argmax(scores)\n",
        "        confidence = scores[class_id]\n",
        "\n",
        "        if confidence > 0.5 and classes[class_id] == 'hand':\n",
        "            center_x = int(obj[0] * width)\n",
        "            center_y = int(obj[1] * height)\n",
        "            w = int(obj[2] * width)\n",
        "            h = int(obj[3] * height)\n",
        "\n",
        "            x = int(center_x - w / 2)\n",
        "            y = int(center_y - h / 2)\n",
        "\n",
        "            cv2.rectangle(image, (x, y), (x + w, y + h), (0, 255, 0), 2)\n",
        "\n",
        "# Display the image with detected hands\n",
        "cv2.imshow('Hand Detection', image)\n",
        "cv2.waitKey(0)\n",
        "cv2.destroyAllWindows()\n"
      ],
      "metadata": {
        "id": "7z2apEFDlyBC",
        "colab": {
          "base_uri": "https://localhost:8080/",
          "height": 262
        },
        "outputId": "ec1c1121-4b03-43ab-b102-d49d626ea5c0"
      },
      "execution_count": 2,
      "outputs": [
        {
          "output_type": "error",
          "ename": "error",
          "evalue": "ignored",
          "traceback": [
            "\u001b[0;31m---------------------------------------------------------------------------\u001b[0m",
            "\u001b[0;31merror\u001b[0m                                     Traceback (most recent call last)",
            "\u001b[0;32m<ipython-input-2-65900a281ddd>\u001b[0m in \u001b[0;36m<cell line: 5>\u001b[0;34m()\u001b[0m\n\u001b[1;32m      3\u001b[0m \u001b[0;34m\u001b[0m\u001b[0m\n\u001b[1;32m      4\u001b[0m \u001b[0;31m# Load model YOLOv3\u001b[0m\u001b[0;34m\u001b[0m\u001b[0;34m\u001b[0m\u001b[0m\n\u001b[0;32m----> 5\u001b[0;31m \u001b[0mnet\u001b[0m \u001b[0;34m=\u001b[0m \u001b[0mcv2\u001b[0m\u001b[0;34m.\u001b[0m\u001b[0mdnn\u001b[0m\u001b[0;34m.\u001b[0m\u001b[0mreadNet\u001b[0m\u001b[0;34m(\u001b[0m\u001b[0;34m'yolov3.weights'\u001b[0m\u001b[0;34m,\u001b[0m \u001b[0;34m'yolov3.cfg'\u001b[0m\u001b[0;34m)\u001b[0m\u001b[0;34m\u001b[0m\u001b[0;34m\u001b[0m\u001b[0m\n\u001b[0m\u001b[1;32m      6\u001b[0m \u001b[0;34m\u001b[0m\u001b[0m\n\u001b[1;32m      7\u001b[0m \u001b[0;31m# Load classes (classes.names)\u001b[0m\u001b[0;34m\u001b[0m\u001b[0;34m\u001b[0m\u001b[0m\n",
            "\u001b[0;31merror\u001b[0m: OpenCV(4.8.0) /io/opencv/modules/dnn/src/darknet/darknet_importer.cpp:210: error: (-212:Parsing error) Failed to open NetParameter file: yolov3.cfg in function 'readNetFromDarknet'\n"
          ]
        }
      ]
    },
    {
      "cell_type": "code",
      "source": [],
      "metadata": {
        "id": "gL1KIFeIme7T"
      },
      "execution_count": null,
      "outputs": []
    }
  ]
}